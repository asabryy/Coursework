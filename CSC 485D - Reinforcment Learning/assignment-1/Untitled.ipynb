{
 "cells": [
  {
   "cell_type": "code",
   "execution_count": 198,
   "id": "06081d66",
   "metadata": {},
   "outputs": [],
   "source": [
    "%matplotlib inline\n",
    "import numpy as np \n",
    "import matplotlib.pyplot as plt\n",
    "import gym\n",
    "import random\n",
    "from gym import Env, spaces"
   ]
  },
  {
   "cell_type": "code",
   "execution_count": 247,
   "id": "e8b7a018",
   "metadata": {},
   "outputs": [
    {
     "data": {
      "text/plain": [
       "0.6988891862890294"
      ]
     },
     "execution_count": 247,
     "metadata": {},
     "output_type": "execute_result"
    }
   ],
   "source": [
    "a = np.random.random()\n",
    "a"
   ]
  },
  {
   "cell_type": "code",
   "execution_count": 116,
   "id": "9689f396",
   "metadata": {},
   "outputs": [
    {
     "data": {
      "text/plain": [
       "array([[0.6, 0.4],\n",
       "       [0.4, 0.6]])"
      ]
     },
     "execution_count": 116,
     "metadata": {},
     "output_type": "execute_result"
    }
   ],
   "source": [
    "P = np.array([[0.6, 0.4], [0.4, 0.6]])\n",
    "P"
   ]
  },
  {
   "cell_type": "code",
   "execution_count": 182,
   "id": "24785962",
   "metadata": {},
   "outputs": [],
   "source": [
    "S = np.array([0, 1])\n",
    "state = 0"
   ]
  },
  {
   "cell_type": "code",
   "execution_count": 197,
   "id": "dbd92813",
   "metadata": {},
   "outputs": [
    {
     "data": {
      "text/plain": [
       "1"
      ]
     },
     "execution_count": 197,
     "metadata": {},
     "output_type": "execute_result"
    }
   ],
   "source": [
    "if state == 0:\n",
    "    state = np.random.choice(S, p = P[0])\n",
    "else:\n",
    "    state = np.random.choice(S, p = P[1])\n",
    "\n",
    "return state"
   ]
  },
  {
   "cell_type": "code",
   "execution_count": 217,
   "id": "6723a534",
   "metadata": {},
   "outputs": [
    {
     "name": "stderr",
     "output_type": "stream",
     "text": [
      "No artists with labels found to put in legend.  Note that artists whose label start with an underscore are ignored when legend() is called with no argument.\n"
     ]
    },
    {
     "data": {
      "text/plain": [
       "<matplotlib.legend.Legend at 0x21e532d0e80>"
      ]
     },
     "execution_count": 217,
     "metadata": {},
     "output_type": "execute_result"
    },
    {
     "data": {
      "image/png": "[encoded data removed]",
      "text/plain": [
       "<Figure size 1008x288 with 1 Axes>"
      ]
     },
     "metadata": {
      "needs_background": "light"
     },
     "output_type": "display_data"
    }
   ],
   "source": [
    "plt.figure(figsize=(14, 4))\n",
    "plt.plot(P)\n",
    "plt.title(\"Average reward\")\n",
    "plt.xlabel(\"Steps\")\n",
    "plt.legend()"
   ]
  },
  {
   "cell_type": "code",
   "execution_count": 218,
   "id": "30d924cd",
   "metadata": {},
   "outputs": [],
   "source": [
    "def get_regret(env, agent, n_steps=10000, n_trials=10):\n",
    "    score = np.zeros(n_steps)\n",
    "    optimal_r = env.optimal_reward()\n",
    "\n",
    "    for trial in range(n_trials):\n",
    "        agent.reset()\n",
    "        for t in range(n_steps):\n",
    "            action = agent.get_action()\n",
    "            reward = env.pull(action)\n",
    "            agent.update(action, reward)\n",
    "            score[t] += optimal_r - reward\n",
    "    score = score / n_trials\n",
    "    score = np.cumsum(score)\n",
    "    return score"
   ]
  },
  {
   "cell_type": "code",
   "execution_count": 219,
   "id": "3530e601",
   "metadata": {},
   "outputs": [],
   "source": [
    "def plot_regret(agents, scores):\n",
    "    for k,v in agents.items():\n",
    "        plt.plot(scores[k])\n",
    "    plt.legend([k for k,v in agents.items()])\n",
    "    plt.ylabel(\"regret\")\n",
    "    plt.xlabel(\"steps\")\n",
    "    plt.show()"
   ]
  },
  {
   "cell_type": "code",
   "execution_count": 220,
   "id": "df96d3f7",
   "metadata": {},
   "outputs": [
    {
     "ename": "NameError",
     "evalue": "name 'EGreedyAgent' is not defined",
     "output_type": "error",
     "traceback": [
      "\u001b[1;31m---------------------------------------------------------------------------\u001b[0m",
      "\u001b[1;31mNameError\u001b[0m                                 Traceback (most recent call last)",
      "\u001b[1;32m~\\AppData\\Local\\Temp/ipykernel_38212/2958139729.py\u001b[0m in \u001b[0;36m<module>\u001b[1;34m\u001b[0m\n\u001b[0;32m      4\u001b[0m agents = {\n\u001b[0;32m      5\u001b[0m     \u001b[1;31m#\"Random\" : RandomAgent(n_actions),\u001b[0m\u001b[1;33m\u001b[0m\u001b[1;33m\u001b[0m\u001b[1;33m\u001b[0m\u001b[0m\n\u001b[1;32m----> 6\u001b[1;33m     \u001b[1;34m\"EpsilonGreedy(eps=0.01)\"\u001b[0m \u001b[1;33m:\u001b[0m \u001b[0mEGreedyAgent\u001b[0m\u001b[1;33m(\u001b[0m\u001b[0mn_actions\u001b[0m\u001b[1;33m,\u001b[0m \u001b[0mepsilon\u001b[0m\u001b[1;33m)\u001b[0m\u001b[1;33m,\u001b[0m\u001b[1;33m\u001b[0m\u001b[1;33m\u001b[0m\u001b[0m\n\u001b[0m\u001b[0;32m      7\u001b[0m     \u001b[1;34m\"UCB\"\u001b[0m\u001b[1;33m:\u001b[0m \u001b[0mUCBAgent\u001b[0m\u001b[1;33m(\u001b[0m\u001b[0mn_actions\u001b[0m\u001b[1;33m)\u001b[0m\u001b[1;33m,\u001b[0m\u001b[1;33m\u001b[0m\u001b[1;33m\u001b[0m\u001b[0m\n\u001b[0;32m      8\u001b[0m     \"Thompson\": ThompsonAgent(n_actions) }\n",
      "\u001b[1;31mNameError\u001b[0m: name 'EGreedyAgent' is not defined"
     ]
    }
   ],
   "source": [
    "n_actions = 5\n",
    "epsilon = 0.01\n",
    "\n",
    "agents = {\n",
    "    #\"Random\" : RandomAgent(n_actions), \n",
    "    \"EpsilonGreedy(eps=0.01)\" : EGreedyAgent(n_actions, epsilon),\n",
    "    \"UCB\": UCBAgent(n_actions),\n",
    "    \"Thompson\": ThompsonAgent(n_actions) }\n",
    "\n",
    "env = Bandit(n_actions)\n",
    "scores = {}\n",
    "\n",
    "for name, agent in agents.items():\n",
    "    score = get_regret(env, agent)\n",
    "    scores[name] = score\n",
    "\n",
    "plot_regret(agents, scores)"
   ]
  },
  {
   "cell_type": "code",
   "execution_count": 221,
   "id": "5fb70f35",
   "metadata": {},
   "outputs": [
    {
     "ename": "NameError",
     "evalue": "name 'runs' is not defined",
     "output_type": "error",
     "traceback": [
      "\u001b[1;31m---------------------------------------------------------------------------\u001b[0m",
      "\u001b[1;31mNameError\u001b[0m                                 Traceback (most recent call last)",
      "\u001b[1;32m~\\AppData\\Local\\Temp/ipykernel_38212/951914043.py\u001b[0m in \u001b[0;36m<module>\u001b[1;34m\u001b[0m\n\u001b[0;32m      7\u001b[0m \u001b[0mfig\u001b[0m\u001b[1;33m.\u001b[0m\u001b[0mset_size_inches\u001b[0m\u001b[1;33m(\u001b[0m\u001b[1;36m14\u001b[0m\u001b[1;33m,\u001b[0m \u001b[1;36m4\u001b[0m\u001b[1;33m)\u001b[0m\u001b[1;33m\u001b[0m\u001b[1;33m\u001b[0m\u001b[0m\n\u001b[0;32m      8\u001b[0m \u001b[1;32mfor\u001b[0m \u001b[0meps\u001b[0m \u001b[1;32min\u001b[0m \u001b[1;33m[\u001b[0m\u001b[1;36m0\u001b[0m\u001b[1;33m,\u001b[0m \u001b[1;36m0.01\u001b[0m\u001b[1;33m,\u001b[0m \u001b[1;36m0.1\u001b[0m\u001b[1;33m]\u001b[0m\u001b[1;33m:\u001b[0m\u001b[1;33m\u001b[0m\u001b[1;33m\u001b[0m\u001b[0m\n\u001b[1;32m----> 9\u001b[1;33m     \u001b[1;32mfor\u001b[0m \u001b[0mrun\u001b[0m \u001b[1;32min\u001b[0m \u001b[0mrange\u001b[0m\u001b[1;33m(\u001b[0m\u001b[0mruns\u001b[0m\u001b[1;33m)\u001b[0m\u001b[1;33m:\u001b[0m\u001b[1;33m\u001b[0m\u001b[1;33m\u001b[0m\u001b[0m\n\u001b[0m\u001b[0;32m     10\u001b[0m         \u001b[1;31m# Get new bandit problem and run the selection method\u001b[0m\u001b[1;33m\u001b[0m\u001b[1;33m\u001b[0m\u001b[1;33m\u001b[0m\u001b[0m\n\u001b[0;32m     11\u001b[0m         \u001b[0mbandit\u001b[0m \u001b[1;33m=\u001b[0m \u001b[0mKBandit\u001b[0m\u001b[1;33m(\u001b[0m\u001b[0mk\u001b[0m\u001b[1;33m)\u001b[0m\u001b[1;33m\u001b[0m\u001b[1;33m\u001b[0m\u001b[0m\n",
      "\u001b[1;31mNameError\u001b[0m: name 'runs' is not defined"
     ]
    },
    {
     "data": {
      "text/plain": [
       "<Figure size 1008x288 with 0 Axes>"
      ]
     },
     "metadata": {},
     "output_type": "display_data"
    },
    {
     "data": {
      "image/png": "[encoded data removed]",
      "text/plain": [
       "<Figure size 1008x288 with 2 Axes>"
      ]
     },
     "metadata": {
      "needs_background": "light"
     },
     "output_type": "display_data"
    }
   ],
   "source": [
    "steps = 1000\n",
    "average_rewards = np.zeros(steps)\n",
    "optimal_actions = np.zeros(steps)\n",
    "\n",
    "plt.figure(figsize=(14, 4))\n",
    "fig, (ax1, ax2) = plt.subplots(1, 2)\n",
    "fig.set_size_inches(14, 4)\n",
    "for eps in [0, 0.01, 0.1]:\n",
    "    for run in range(runs):\n",
    "        # Get new bandit problem and run the selection method\n",
    "        bandit = KBandit(k)    \n",
    "        results = solve_bandit(bandit, eps, steps)\n",
    "\n",
    "        # Accumulate rewards and optimal action counts\n",
    "        average_rewards += results[:, 1]\n",
    "        optimal_idx = results[:, 0] == bandit.optimal_action\n",
    "        optimal_actions[optimal_idx] += 1\n",
    "\n",
    "    # Finalize averages\n",
    "    average_rewards /= runs\n",
    "    optimal_actions /= runs\n",
    "\n",
    "    ax1.plot(average_rewards, label=r\"$\\epsilon$={:.2f}\".format(eps))\n",
    "    ax2.plot(optimal_actions, label=r\"$\\epsilon$={:.2f}\".format(eps))\n",
    "\n",
    "ax1.set_title(\"Average reward\")\n",
    "ax1.set_xlabel(\"Steps\")\n",
    "ax1.legend()\n",
    "ax2.set_title(\"Optimal action fraction\")\n",
    "ax2.set_xlabel(\"Steps\")\n",
    "ax2.legend();"
   ]
  },
  {
   "cell_type": "code",
   "execution_count": null,
   "id": "68f3319c",
   "metadata": {},
   "outputs": [],
   "source": [
    "class RLAgent:\n",
    "    def __init__(self, n_actions=5, epsilon):\n",
    "        self.epsilon = epsilon\n",
    "        self.avg_reward = np.zeros((n_actions, 2))\n",
    "        self.total_pulls = 0\n",
    "        self.n_actions = n_actions\n",
    "        \n",
    "    def reset(self):\n",
    "        self.avg_reward = np.zeros(n_actions)\n",
    "        self.failure_cnt = np.zeros(n_actions)\n",
    "        self.total_pulls = 0        \n",
    "        \n",
    "    def get_action(self):\n",
    "        estimates = 0\n",
    "        if np.random.random() < self.epsilon:\n",
    "            return np.random.randint(0, self.n_actions)\n",
    "        else:\n",
    "            return np.argmax(estimates)\n",
    "    \n",
    "    def update(self, action, reward):\n",
    "        self.total_pulls += 1\n",
    "        self.avg_reward[action][1] += 1\n",
    "        self.avg_reward[action][0] = (self.avg_reward + reward)/self.avg_reward[action][1]"
   ]
  }
 ],
 "metadata": {
  "kernelspec": {
   "display_name": "Python 3 (ipykernel)",
   "language": "python",
   "name": "python3"
  },
  "language_info": {
   "codemirror_mode": {
    "name": "ipython",
    "version": 3
   },
   "file_extension": ".py",
   "mimetype": "text/x-python",
   "name": "python",
   "nbconvert_exporter": "python",
   "pygments_lexer": "ipython3",
   "version": "3.8.12"
  }
 },
 "nbformat": 4,
 "nbformat_minor": 5
}
